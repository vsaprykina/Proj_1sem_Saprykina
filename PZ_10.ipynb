{
  "nbformat": 4,
  "nbformat_minor": 0,
  "metadata": {
    "colab": {
      "name": "PZ_10.ipynb",
      "provenance": [],
      "authorship_tag": "ABX9TyP6uWZuwULy+8CoayeRoSab",
      "include_colab_link": true
    },
    "kernelspec": {
      "name": "python3",
      "display_name": "Python 3"
    },
    "language_info": {
      "name": "python"
    }
  },
  "cells": [
    {
      "cell_type": "markdown",
      "metadata": {
        "id": "view-in-github",
        "colab_type": "text"
      },
      "source": [
        "<a href=\"https://colab.research.google.com/github/vsaprykina/Proj_1sem_Saprykina/blob/master/PZ_10.ipynb\" target=\"_parent\"><img src=\"https://colab.research.google.com/assets/colab-badge.svg\" alt=\"Open In Colab\"/></a>"
      ]
    },
    {
      "cell_type": "code",
      "execution_count": 2,
      "metadata": {
        "colab": {
          "base_uri": "https://localhost:8080/"
        },
        "id": "n_ppl7aWa2lk",
        "outputId": "0b919f43-4e16-43e8-a76d-83760676e9b3"
      },
      "outputs": [
        {
          "output_type": "stream",
          "name": "stdout",
          "text": [
            "Введите первое число: 2\n",
            "Введите второе число: 3\n",
            "Введите третье число: 4\n",
            "False\n"
          ]
        }
      ],
      "source": [
        "# Программа возвращает истину, если хотя бы два числа из трёх равны\n",
        "while True:\n",
        "    try:\n",
        "        a = int(input('Введите первое число: '))\n",
        "        b = int(input('Введите второе число: '))\n",
        "        c = int(input('Введите третье число: '))\n",
        "        break\n",
        "    except:\n",
        "        print('Неправильно введены значения. Вводите целые числа')\n",
        "if a == b:\n",
        "    print(True)\n",
        "elif b == c:\n",
        "    print(True)\n",
        "elif a == c:\n",
        "    print(True)\n",
        "else:\n",
        "    print(False)"
      ]
    },
    {
      "cell_type": "code",
      "source": [
        "\n",
        "x = float(input(\"введите вещественное число x: \"))\n",
        "while type(x) != float:\n",
        "    try:\n",
        "        x = float(x)\n",
        "    except ValueError:\n",
        "        print('Введите вещественное число: ')\n",
        "        x = input('x: ')\n",
        "n = int(input(\"введите целое число n: \"))\n",
        "while type(n) != int:\n",
        "    try:\n",
        "        n = int(n)\n",
        "    except ValueError:\n",
        "        print('Введите целое число: ')\n",
        "        n = input('n: ')\n",
        "i = 1\n",
        "v = 3\n",
        "fact = 1\n",
        "sin = 0\n",
        "g = 3\n",
        "k = 1\n",
        "while i <= n:\n",
        "    while k <= g:\n",
        "        fact *= k\n",
        "        k += 1\n",
        "    g += 2\n",
        "    m = x**v / fact\n",
        "    if i % 2 == 1:\n",
        "        sin = sin + m\n",
        "    else:\n",
        "        sin = sin - m\n",
        "    i += 1\n",
        "    v += 2\n",
        "    d = x - sin\n",
        "print('Приближённое значение функции sin в точке x: ', d)"
      ],
      "metadata": {
        "colab": {
          "base_uri": "https://localhost:8080/"
        },
        "id": "jOcgEdngbgwV",
        "outputId": "be71b19c-1f95-49a6-eb38-b73e7eac2282"
      },
      "execution_count": 4,
      "outputs": [
        {
          "output_type": "stream",
          "name": "stdout",
          "text": [
            "введите вещественное число x: 0.5\n",
            "введите целое число n: 4\n",
            "Приближённое значение функции sin в точке x:  0.4794255386164159\n"
          ]
        }
      ]
    },
    {
      "cell_type": "code",
      "source": [
        "# Составить функцию решения задачи: из заданного числа вычлилить  сумму его цифр.\n",
        "# Из результата вновь вычли сумму его цифр и т.д.\n",
        "# Через сколько дейсьвий получится нуль?\n",
        "def f(n):\n",
        "    s = 0\n",
        "    while n > 0:\n",
        "        s += n % 10\n",
        "        n = n // 10\n",
        "    return s\n",
        "\n",
        "\n",
        "c = int(input(\"Введите число: \"))\n",
        "k = 0\n",
        "while c > 0:\n",
        "    c -= f(c)\n",
        "    k += 1\n",
        "print(\"Через \" + str(k) + \" действий\")"
      ],
      "metadata": {
        "colab": {
          "base_uri": "https://localhost:8080/"
        },
        "id": "vLSSAtzab7Pd",
        "outputId": "eb856b0a-1cfa-4636-d393-06802c7cb81e"
      },
      "execution_count": 5,
      "outputs": [
        {
          "output_type": "stream",
          "name": "stdout",
          "text": [
            "Введите число: 37\n",
            "Через 4 действий\n"
          ]
        }
      ]
    }
  ]
}