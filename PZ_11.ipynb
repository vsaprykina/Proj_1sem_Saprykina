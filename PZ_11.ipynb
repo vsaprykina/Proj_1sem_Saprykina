{
  "nbformat": 4,
  "nbformat_minor": 0,
  "metadata": {
    "colab": {
      "name": "PZ_11.ipynb",
      "provenance": [],
      "authorship_tag": "ABX9TyOZkZkEPMTvYdzIm0UsT3iu",
      "include_colab_link": true
    },
    "kernelspec": {
      "name": "python3",
      "display_name": "Python 3"
    },
    "language_info": {
      "name": "python"
    }
  },
  "cells": [
    {
      "cell_type": "markdown",
      "metadata": {
        "id": "view-in-github",
        "colab_type": "text"
      },
      "source": [
        "<a href=\"https://colab.research.google.com/github/vsaprykina/Proj_1sem_Saprykina/blob/master/PZ_11.ipynb\" target=\"_parent\"><img src=\"https://colab.research.google.com/assets/colab-badge.svg\" alt=\"Open In Colab\"/></a>"
      ]
    },
    {
      "cell_type": "markdown",
      "source": [
        ""
      ],
      "metadata": {
        "id": "s9G4MG95d9Mw"
      }
    },
    {
      "cell_type": "markdown",
      "source": [
        ""
      ],
      "metadata": {
        "id": "UXn5e-ugehqu"
      }
    },
    {
      "cell_type": "markdown",
      "source": [
        " Программа возвращает истину, если хотя бы два числа из трёх равны"
      ],
      "metadata": {
        "id": "4kAdaKHde8ME"
      }
    },
    {
      "cell_type": "code",
      "source": [
        "while True:\n",
        "    try:\n",
        "        a = int(input('Введите первое число: '))\n",
        "        b = int(input('Введите второе число: '))\n",
        "        c = int(input('Введите третье число: '))\n",
        "        break\n",
        "    except:\n",
        "        print('Неправильно введены значения. Вводите целые числа')\n",
        "if a == b:\n",
        "    print(True)\n",
        "elif b == c:\n",
        "    print(True)\n",
        "elif a == c:\n",
        "    print(True)\n",
        "else:\n",
        "    print(False)\n",
        "    "
      ],
      "metadata": {
        "colab": {
          "base_uri": "https://localhost:8080/"
        },
        "id": "3zcFcynce-fp",
        "outputId": "f4c88714-4602-4ad2-b8e0-6aeb548e781c"
      },
      "execution_count": 6,
      "outputs": [
        {
          "output_type": "stream",
          "name": "stdout",
          "text": [
            "Введите первое число: 3\n",
            "Введите второе число: 4\n",
            "Введите третье число: 5\n",
            "False\n"
          ]
        }
      ]
    },
    {
      "cell_type": "markdown",
      "source": [
        "Дано вещественное число X и целое число N (>0). Найдите значение выражения X - X^3/(3!) + X^5/(5!) - ...\n",
        " ... + (-1)^N - X^2-N+1/((2-N+1)!) (N! = 12 ... N). Полученное число является приближённым значением функции sin в точке X."
      ],
      "metadata": {
        "id": "dJzxyCXGfGfk"
      }
    },
    {
      "cell_type": "code",
      "source": [
        "x = float(input(\"введите вещественное число x: \"))\n",
        "while type(x) != float:\n",
        "    try:\n",
        "        x = float(x)\n",
        "    except ValueError:\n",
        "        print('Введите вещественное число: ')\n",
        "        x = input('x: ')\n",
        "n = int(input(\"введите целое число n: \"))\n",
        "while type(n) != int:\n",
        "    try:\n",
        "        n = int(n)\n",
        "    except ValueError:\n",
        "        print('Введите целое число: ')\n",
        "        n = input('n: ')\n",
        "i = 1\n",
        "v = 3\n",
        "fact = 1\n",
        "sin = 0\n",
        "g = 3\n",
        "k = 1\n",
        "while i <= n:\n",
        "    while k <= g:\n",
        "        fact *= k\n",
        "        k += 1\n",
        "    g += 2\n",
        "    m = x**v / fact\n",
        "    if i % 2 == 1:\n",
        "        sin = sin + m\n",
        "    else:\n",
        "        sin = sin - m\n",
        "    i += 1\n",
        "    v += 2\n",
        "    d = x - sin\n",
        "print('Приближённое значение функции sin в точке x: ', d)"
      ],
      "metadata": {
        "colab": {
          "base_uri": "https://localhost:8080/"
        },
        "id": "cQu_zmiVfPdF",
        "outputId": "28fc0324-181e-408b-ca47-5b8f8753a6f4"
      },
      "execution_count": 7,
      "outputs": [
        {
          "output_type": "stream",
          "name": "stdout",
          "text": [
            "введите вещественное число x: 4\n",
            "введите целое число n: 5\n",
            "Приближённое значение функции sin в точке x:  -0.7668045534712196\n"
          ]
        }
      ]
    },
    {
      "cell_type": "markdown",
      "source": [
        ""
      ],
      "metadata": {
        "id": "UARcFg4OfW5c"
      }
    },
    {
      "cell_type": "markdown",
      "source": [
        " Составить функцию решения задачи: из заданного числа вычлилить  сумму его цифр.\n",
        " Из результата вновь вычли сумму его цифр и т.д.\n",
        " Через сколько дейсьвий получится нуль?"
      ],
      "metadata": {
        "id": "rRUy03k4fjC9"
      }
    },
    {
      "cell_type": "code",
      "source": [
        "def f(n):\n",
        "    s = 0\n",
        "    while n > 0:\n",
        "        s += n % 10\n",
        "        n = n // 10\n",
        "    return s\n",
        "\n",
        "\n",
        "c = int(input(\"Введите число: \"))\n",
        "k = 0\n",
        "while c > 0:\n",
        "    c -= f(c)\n",
        "    k += 1\n",
        "print(\"Через \" + str(k) + \" действий\")"
      ],
      "metadata": {
        "colab": {
          "base_uri": "https://localhost:8080/"
        },
        "id": "LrjtZPQuflWR",
        "outputId": "c0231e7e-1731-4bb0-c8b4-07743bbff87c"
      },
      "execution_count": 9,
      "outputs": [
        {
          "output_type": "stream",
          "name": "stdout",
          "text": [
            "Введите число: 67\n",
            "Через 7 действий\n"
          ]
        }
      ]
    }
  ]
}